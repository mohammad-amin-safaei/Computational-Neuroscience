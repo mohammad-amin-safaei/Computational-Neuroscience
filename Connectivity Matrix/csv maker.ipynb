{
 "cells": [
  {
   "cell_type": "code",
   "execution_count": null,
   "metadata": {},
   "outputs": [],
   "source": [
    "import csv\n",
    "\n",
    "# Define your dictionaries with the same set of keys\n",
    "dict1 = {\"Name\": \"Alice\", \"Age\": 30, \"City\": \"New York\"}\n",
    "dict2 = {\"Name\": \"Bob\", \"Age\": 25, \"City\": \"London\"}\n",
    "dict3 = {\"Name\": \"Charlie\", \"Age\": 42, \"City\": \"Paris\"}\n",
    "\n",
    "# Collect all keys from the dictionaries using set union\n",
    "all_keys = set().union(*(set(d.keys()) for d in [dict1, dict2, dict3]))\n",
    "\n",
    "\n",
    "# Open the CSV file in append mode (if it doesn't exist, it will be created)\n",
    "with open(\"data.csv\", \"a\", newline=\"\") as csvfile:\n",
    "  writer = csv.DictWriter(csvfile, fieldnames=all_keys)\n",
    "\n",
    "  # Check if the header row (with keys) needs to be written\n",
    "  if csvfile.tell() == 0:\n",
    "    writer.writeheader()\n",
    "\n",
    "  # Write each dictionary as a separate row\n",
    "  writer.writerow(dict1)\n",
    "  writer.writerow(dict2)\n",
    "  writer.writerow(dict3)\n",
    "\n",
    "\n"
   ]
  }
 ],
 "metadata": {
  "kernelspec": {
   "display_name": "Python 3",
   "language": "python",
   "name": "python3"
  },
  "language_info": {
   "name": "python",
   "version": "3.11.7"
  }
 },
 "nbformat": 4,
 "nbformat_minor": 2
}
